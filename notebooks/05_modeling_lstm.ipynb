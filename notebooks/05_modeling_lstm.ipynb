{
 "cells": [
  {
   "cell_type": "code",
   "execution_count": 6,
   "metadata": {},
   "outputs": [],
   "source": [
    "import numpy as np\n",
    "import joblib\n",
    "import tensorflow as tf\n",
    "from keras.models import Model\n",
    "from keras.layers import Input, Embedding, LSTM, Bidirectional, Dense, Dropout\n",
    "import matplotlib.pyplot as plt"
   ]
  },
  {
   "cell_type": "code",
   "execution_count": 2,
   "metadata": {},
   "outputs": [],
   "source": [
    "# Load processed sequences\n",
    "sequences = np.load(\"../data/processed/tokenized_sequences.npy\")\n",
    "tokenizer = joblib.load('../models/tokenizer.pkl')"
   ]
  },
  {
   "cell_type": "code",
   "execution_count": 3,
   "metadata": {},
   "outputs": [],
   "source": [
    "# Split into train and target\n",
    "X_train, y_train = sequences[:, :-1], sequences[:, -1]\n",
    "y_train = tf.keras.utils.to_categorical(y_train, num_classes=len(tokenizer.word_index) + 1)"
   ]
  },
  {
   "cell_type": "code",
   "execution_count": 4,
   "metadata": {},
   "outputs": [
    {
     "name": "stdout",
     "output_type": "stream",
     "text": [
      "Epoch 1/50\n",
      "189/189 [==============================] - 201s 1s/step - loss: 7.8495 - accuracy: 0.0498\n",
      "Epoch 2/50\n",
      "189/189 [==============================] - 195s 1s/step - loss: 6.2722 - accuracy: 0.0879\n",
      "Epoch 3/50\n",
      "189/189 [==============================] - 195s 1s/step - loss: 5.9136 - accuracy: 0.0957\n",
      "Epoch 4/50\n",
      "189/189 [==============================] - 186s 983ms/step - loss: 5.6621 - accuracy: 0.1007\n",
      "Epoch 5/50\n",
      "189/189 [==============================] - 189s 1s/step - loss: 5.4184 - accuracy: 0.1125\n",
      "Epoch 6/50\n",
      "189/189 [==============================] - 193s 1s/step - loss: 5.2451 - accuracy: 0.1208\n",
      "Epoch 7/50\n",
      "189/189 [==============================] - 197s 1s/step - loss: 5.0183 - accuracy: 0.1362\n",
      "Epoch 8/50\n",
      "189/189 [==============================] - 195s 1s/step - loss: 4.7799 - accuracy: 0.1497\n",
      "Epoch 9/50\n",
      "189/189 [==============================] - 196s 1s/step - loss: 4.4826 - accuracy: 0.1769\n",
      "Epoch 10/50\n",
      "189/189 [==============================] - 195s 1s/step - loss: 4.1992 - accuracy: 0.2023\n",
      "Epoch 11/50\n",
      "189/189 [==============================] - 194s 1s/step - loss: 3.8860 - accuracy: 0.2338\n",
      "Epoch 12/50\n",
      "189/189 [==============================] - 194s 1s/step - loss: 3.5812 - accuracy: 0.2753\n",
      "Epoch 13/50\n",
      "189/189 [==============================] - 193s 1s/step - loss: 3.2987 - accuracy: 0.3076\n",
      "Epoch 14/50\n",
      "189/189 [==============================] - 193s 1s/step - loss: 2.9487 - accuracy: 0.3688\n",
      "Epoch 15/50\n",
      "189/189 [==============================] - 193s 1s/step - loss: 2.6931 - accuracy: 0.4194\n",
      "Epoch 16/50\n",
      "189/189 [==============================] - 192s 1s/step - loss: 2.3532 - accuracy: 0.4929\n",
      "Epoch 17/50\n",
      "189/189 [==============================] - 192s 1s/step - loss: 2.0463 - accuracy: 0.5572\n",
      "Epoch 18/50\n",
      "189/189 [==============================] - 188s 996ms/step - loss: 1.7566 - accuracy: 0.6285\n",
      "Epoch 19/50\n",
      "189/189 [==============================] - 185s 981ms/step - loss: 1.4964 - accuracy: 0.6916\n",
      "Epoch 20/50\n",
      "189/189 [==============================] - 193s 1s/step - loss: 1.2956 - accuracy: 0.7282\n",
      "Epoch 21/50\n",
      "189/189 [==============================] - 193s 1s/step - loss: 1.0850 - accuracy: 0.7805\n",
      "Epoch 22/50\n",
      "189/189 [==============================] - 195s 1s/step - loss: 0.9251 - accuracy: 0.8145\n",
      "Epoch 23/50\n",
      "189/189 [==============================] - 192s 1s/step - loss: 0.7631 - accuracy: 0.8462\n",
      "Epoch 24/50\n",
      "189/189 [==============================] - 192s 1s/step - loss: 0.6392 - accuracy: 0.8812\n",
      "Epoch 25/50\n",
      "189/189 [==============================] - 191s 1s/step - loss: 0.5789 - accuracy: 0.8890\n",
      "Epoch 26/50\n",
      "189/189 [==============================] - 5104s 27s/step - loss: 0.4972 - accuracy: 0.9101\n",
      "Epoch 27/50\n",
      "189/189 [==============================] - 5991s 32s/step - loss: 0.4147 - accuracy: 0.9273\n",
      "Epoch 28/50\n",
      "189/189 [==============================] - 206s 1s/step - loss: 0.3654 - accuracy: 0.9396\n",
      "Epoch 29/50\n",
      "189/189 [==============================] - 203s 1s/step - loss: 0.2860 - accuracy: 0.9575\n",
      "Epoch 30/50\n",
      "189/189 [==============================] - 204s 1s/step - loss: 0.4705 - accuracy: 0.9119\n",
      "Epoch 31/50\n",
      "189/189 [==============================] - 204s 1s/step - loss: 0.3409 - accuracy: 0.9424\n",
      "Epoch 32/50\n",
      "189/189 [==============================] - 204s 1s/step - loss: 0.2419 - accuracy: 0.9638\n",
      "Epoch 33/50\n",
      "189/189 [==============================] - 203s 1s/step - loss: 0.1888 - accuracy: 0.9726\n",
      "Epoch 34/50\n",
      "189/189 [==============================] - 203s 1s/step - loss: 0.1496 - accuracy: 0.9839\n",
      "Epoch 35/50\n",
      "189/189 [==============================] - 203s 1s/step - loss: 0.1210 - accuracy: 0.9864\n",
      "Epoch 36/50\n",
      "189/189 [==============================] - 203s 1s/step - loss: 0.1031 - accuracy: 0.9881\n",
      "Epoch 37/50\n",
      "189/189 [==============================] - 204s 1s/step - loss: 0.0988 - accuracy: 0.9886\n",
      "Epoch 38/50\n",
      "189/189 [==============================] - 204s 1s/step - loss: 0.0818 - accuracy: 0.9909\n",
      "Epoch 39/50\n",
      "189/189 [==============================] - 191s 1s/step - loss: 0.0752 - accuracy: 0.9910\n",
      "Epoch 40/50\n",
      "189/189 [==============================] - 177s 939ms/step - loss: 0.0655 - accuracy: 0.9930\n",
      "Epoch 41/50\n",
      "189/189 [==============================] - 175s 928ms/step - loss: 0.0574 - accuracy: 0.9922\n",
      "Epoch 42/50\n",
      "189/189 [==============================] - 177s 935ms/step - loss: 0.0534 - accuracy: 0.9934\n",
      "Epoch 43/50\n",
      "189/189 [==============================] - 176s 933ms/step - loss: 0.0470 - accuracy: 0.9934\n",
      "Epoch 44/50\n",
      "189/189 [==============================] - 177s 934ms/step - loss: 0.0458 - accuracy: 0.9934\n",
      "Epoch 45/50\n",
      "189/189 [==============================] - 177s 936ms/step - loss: 0.0480 - accuracy: 0.9930\n",
      "Epoch 46/50\n",
      "189/189 [==============================] - 177s 938ms/step - loss: 0.0440 - accuracy: 0.9932\n",
      "Epoch 47/50\n",
      "189/189 [==============================] - 180s 955ms/step - loss: 0.0428 - accuracy: 0.9935\n",
      "Epoch 48/50\n",
      "189/189 [==============================] - 198s 1s/step - loss: 0.0391 - accuracy: 0.9937\n",
      "Epoch 49/50\n",
      "189/189 [==============================] - 204s 1s/step - loss: 0.0355 - accuracy: 0.9937\n",
      "Epoch 50/50\n",
      "189/189 [==============================] - 196s 1s/step - loss: 0.0365 - accuracy: 0.9934\n"
     ]
    },
    {
     "data": {
      "text/plain": [
       "<keras.src.callbacks.History at 0x7fe647227040>"
      ]
     },
     "execution_count": 4,
     "metadata": {},
     "output_type": "execute_result"
    }
   ],
   "source": [
    "# Build LSTM model\n",
    "D = 512\n",
    "V = len(tokenizer.word_index) + 1\n",
    "T = X_train.shape[1]\n",
    "\n",
    "i = Input(shape=(T,))\n",
    "x = Embedding(V, D)(i)\n",
    "x = Bidirectional(LSTM(250, return_sequences=True))(x)\n",
    "x = Bidirectional(LSTM(250))(x)\n",
    "x = Dropout(0.2)(x)\n",
    "x = Dense(V, activation=\"softmax\")(x)\n",
    "lstm_model = Model(i, x)\n",
    "\n",
    "# Compile the model\n",
    "lstm_model.compile(optimizer='adam', loss='categorical_crossentropy', metrics=['accuracy'])\n",
    "\n",
    "# Train the model\n",
    "lstm_model.fit(X_train, y_train, epochs=50, batch_size=32)"
   ]
  },
  {
   "cell_type": "code",
   "execution_count": 5,
   "metadata": {},
   "outputs": [],
   "source": [
    "# Save the trained LSTM model\n",
    "lstm_model.save('../models/lstm_text_generation_model.keras')"
   ]
  },
  {
   "cell_type": "code",
   "execution_count": 8,
   "metadata": {},
   "outputs": [
    {
     "data": {
      "image/png": "[encoded data removed]",
      "text/plain": [
       "<Figure size 640x480 with 1 Axes>"
      ]
     },
     "metadata": {},
     "output_type": "display_data"
    }
   ],
   "source": [
    "plt.plot(lstm_model.history.history['accuracy'])\n",
    "plt.title('Model Accuracy')\n",
    "plt.xlabel('Epochs')\n",
    "plt.ylabel('Accuracy')\n",
    "plt.savefig('../plots/lstm_model_training.png')\n",
    "plt.show()"
   ]
  },
  {
   "cell_type": "code",
   "execution_count": null,
   "metadata": {},
   "outputs": [],
   "source": []
  }
 ],
 "metadata": {
  "kernelspec": {
   "display_name": "deep_learning",
   "language": "python",
   "name": "python3"
  },
  "language_info": {
   "codemirror_mode": {
    "name": "ipython",
    "version": 3
   },
   "file_extension": ".py",
   "mimetype": "text/x-python",
   "name": "python",
   "nbconvert_exporter": "python",
   "pygments_lexer": "ipython3",
   "version": "3.8.19"
  }
 },
 "nbformat": 4,
 "nbformat_minor": 2
}
