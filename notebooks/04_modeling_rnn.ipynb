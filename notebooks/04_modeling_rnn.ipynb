{
 "cells": [
  {
   "cell_type": "code",
   "execution_count": 13,
   "metadata": {},
   "outputs": [],
   "source": [
    "import numpy as np\n",
    "import joblib\n",
    "import tensorflow as tf\n",
    "from keras.models import Model\n",
    "from keras.layers import Input, Embedding, SimpleRNN, Dense, Dropout\n",
    "import matplotlib.pyplot as plt"
   ]
  },
  {
   "cell_type": "code",
   "execution_count": 2,
   "metadata": {},
   "outputs": [],
   "source": [
    "# Load processed sequences\n",
    "sequences = np.load(\"../data/processed/tokenized_sequences.npy\")\n",
    "tokenizer = joblib.load('../models/tokenizer.pkl')"
   ]
  },
  {
   "cell_type": "code",
   "execution_count": 3,
   "metadata": {},
   "outputs": [],
   "source": [
    "# Split into train and target\n",
    "X_train, y_train = sequences[:, :-1], sequences[:, -1]\n",
    "y_train = tf.keras.utils.to_categorical(y_train, num_classes=len(tokenizer.word_index) + 1)"
   ]
  },
  {
   "cell_type": "code",
   "execution_count": 4,
   "metadata": {},
   "outputs": [
    {
     "name": "stdout",
     "output_type": "stream",
     "text": [
      "Model: \"model\"\n",
      "_________________________________________________________________\n",
      " Layer (type)                Output Shape              Param #   \n",
      "=================================================================\n",
      " input_1 (InputLayer)        [(None, 29)]              0         \n",
      "                                                                 \n",
      " embedding (Embedding)       (None, 29, 512)           30889984  \n",
      "                                                                 \n",
      " dropout (Dropout)           (None, 29, 512)           0         \n",
      "                                                                 \n",
      " simple_rnn (SimpleRNN)      (None, 150)               99450     \n",
      "                                                                 \n",
      " dense (Dense)               (None, 60332)             9110132   \n",
      "                                                                 \n",
      "=================================================================\n",
      "Total params: 40099566 (152.97 MB)\n",
      "Trainable params: 40099566 (152.97 MB)\n",
      "Non-trainable params: 0 (0.00 Byte)\n",
      "_________________________________________________________________\n"
     ]
    }
   ],
   "source": [
    "# Build RNN model\n",
    "D = 512\n",
    "V = len(tokenizer.word_index) + 1\n",
    "T = X_train.shape[1]\n",
    "\n",
    "i = Input(shape=(T,))\n",
    "x = Embedding(V, D)(i)\n",
    "x = Dropout(0.2)(x)\n",
    "x = SimpleRNN(150)(x)\n",
    "x = Dense(V, activation=\"softmax\")(x)\n",
    "rnn_model = Model(i, x)\n",
    "\n",
    "# Compile the model\n",
    "rnn_model.compile(optimizer='adam', loss='categorical_crossentropy', metrics=['accuracy'])\n",
    "rnn_model.summary()"
   ]
  },
  {
   "cell_type": "code",
   "execution_count": 5,
   "metadata": {},
   "outputs": [
    {
     "name": "stdout",
     "output_type": "stream",
     "text": [
      "Epoch 1/50\n",
      "189/189 [==============================] - 95s 499ms/step - loss: 8.0851 - accuracy: 0.0491\n",
      "Epoch 2/50\n",
      "189/189 [==============================] - 96s 506ms/step - loss: 6.5032 - accuracy: 0.0762\n",
      "Epoch 3/50\n",
      "189/189 [==============================] - 91s 481ms/step - loss: 5.9553 - accuracy: 0.0977\n",
      "Epoch 4/50\n",
      "189/189 [==============================] - 85s 448ms/step - loss: 5.5512 - accuracy: 0.1268\n",
      "Epoch 5/50\n",
      "189/189 [==============================] - 88s 466ms/step - loss: 5.1413 - accuracy: 0.1590\n",
      "Epoch 6/50\n",
      "189/189 [==============================] - 95s 501ms/step - loss: 4.6879 - accuracy: 0.2056\n",
      "Epoch 7/50\n",
      "189/189 [==============================] - 95s 501ms/step - loss: 4.2653 - accuracy: 0.2562\n",
      "Epoch 8/50\n",
      "189/189 [==============================] - 93s 495ms/step - loss: 3.8258 - accuracy: 0.3121\n",
      "Epoch 9/50\n",
      "189/189 [==============================] - 95s 501ms/step - loss: 3.4121 - accuracy: 0.3718\n",
      "Epoch 10/50\n",
      "189/189 [==============================] - 95s 500ms/step - loss: 3.0094 - accuracy: 0.4309\n",
      "Epoch 11/50\n",
      "189/189 [==============================] - 94s 498ms/step - loss: 2.6792 - accuracy: 0.4852\n",
      "Epoch 12/50\n",
      "189/189 [==============================] - 94s 498ms/step - loss: 2.3683 - accuracy: 0.5391\n",
      "Epoch 13/50\n",
      "189/189 [==============================] - 89s 469ms/step - loss: 2.0774 - accuracy: 0.5993\n",
      "Epoch 14/50\n",
      "189/189 [==============================] - 88s 463ms/step - loss: 1.7613 - accuracy: 0.6746\n",
      "Epoch 15/50\n",
      "189/189 [==============================] - 87s 461ms/step - loss: 1.5071 - accuracy: 0.7385\n",
      "Epoch 16/50\n",
      "189/189 [==============================] - 88s 464ms/step - loss: 1.2975 - accuracy: 0.7790\n",
      "Epoch 17/50\n",
      "189/189 [==============================] - 88s 467ms/step - loss: 1.1036 - accuracy: 0.8246\n",
      "Epoch 18/50\n",
      "189/189 [==============================] - 87s 462ms/step - loss: 0.9450 - accuracy: 0.8505\n",
      "Epoch 19/50\n",
      "189/189 [==============================] - 87s 459ms/step - loss: 0.8170 - accuracy: 0.8694\n",
      "Epoch 20/50\n",
      "189/189 [==============================] - 88s 464ms/step - loss: 0.7032 - accuracy: 0.8931\n",
      "Epoch 21/50\n",
      "189/189 [==============================] - 88s 465ms/step - loss: 0.6031 - accuracy: 0.9117\n",
      "Epoch 22/50\n",
      "189/189 [==============================] - 87s 459ms/step - loss: 0.5275 - accuracy: 0.9223\n",
      "Epoch 23/50\n",
      "189/189 [==============================] - 86s 457ms/step - loss: 0.4535 - accuracy: 0.9370\n",
      "Epoch 24/50\n",
      "189/189 [==============================] - 95s 504ms/step - loss: 0.3946 - accuracy: 0.9484\n",
      "Epoch 25/50\n",
      "189/189 [==============================] - 93s 492ms/step - loss: 0.3579 - accuracy: 0.9519\n",
      "Epoch 26/50\n",
      "189/189 [==============================] - 92s 488ms/step - loss: 0.3050 - accuracy: 0.9642\n",
      "Epoch 27/50\n",
      "189/189 [==============================] - 92s 489ms/step - loss: 0.2730 - accuracy: 0.9650\n",
      "Epoch 28/50\n",
      "189/189 [==============================] - 93s 492ms/step - loss: 0.2328 - accuracy: 0.9726\n",
      "Epoch 29/50\n",
      "189/189 [==============================] - 93s 493ms/step - loss: 0.2064 - accuracy: 0.9774\n",
      "Epoch 30/50\n",
      "189/189 [==============================] - 94s 496ms/step - loss: 0.1776 - accuracy: 0.9814\n",
      "Epoch 31/50\n",
      "189/189 [==============================] - 91s 483ms/step - loss: 0.1616 - accuracy: 0.9822\n",
      "Epoch 32/50\n",
      "189/189 [==============================] - 84s 445ms/step - loss: 0.1502 - accuracy: 0.9836\n",
      "Epoch 33/50\n",
      "189/189 [==============================] - 82s 434ms/step - loss: 0.1476 - accuracy: 0.9841\n",
      "Epoch 34/50\n",
      "189/189 [==============================] - 84s 443ms/step - loss: 0.1260 - accuracy: 0.9854\n",
      "Epoch 35/50\n",
      "189/189 [==============================] - 85s 448ms/step - loss: 0.1176 - accuracy: 0.9854\n",
      "Epoch 36/50\n",
      "189/189 [==============================] - 84s 446ms/step - loss: 0.1315 - accuracy: 0.9819\n",
      "Epoch 37/50\n",
      "189/189 [==============================] - 84s 444ms/step - loss: 0.1021 - accuracy: 0.9881\n",
      "Epoch 38/50\n",
      "189/189 [==============================] - 87s 462ms/step - loss: 0.0844 - accuracy: 0.9897\n",
      "Epoch 39/50\n",
      "189/189 [==============================] - 87s 460ms/step - loss: 0.0792 - accuracy: 0.9900\n",
      "Epoch 40/50\n",
      "189/189 [==============================] - 86s 457ms/step - loss: 0.0743 - accuracy: 0.9897\n",
      "Epoch 41/50\n",
      "189/189 [==============================] - 86s 458ms/step - loss: 0.0632 - accuracy: 0.9915\n",
      "Epoch 42/50\n",
      "189/189 [==============================] - 87s 461ms/step - loss: 0.0659 - accuracy: 0.9912\n",
      "Epoch 43/50\n",
      "189/189 [==============================] - 87s 460ms/step - loss: 0.0607 - accuracy: 0.9924\n",
      "Epoch 44/50\n",
      "189/189 [==============================] - 93s 492ms/step - loss: 0.0566 - accuracy: 0.9920\n",
      "Epoch 45/50\n",
      "189/189 [==============================] - 94s 496ms/step - loss: 0.0570 - accuracy: 0.9919\n",
      "Epoch 46/50\n",
      "189/189 [==============================] - 94s 497ms/step - loss: 0.0607 - accuracy: 0.9909\n",
      "Epoch 47/50\n",
      "189/189 [==============================] - 94s 499ms/step - loss: 0.0880 - accuracy: 0.9871\n",
      "Epoch 48/50\n",
      "189/189 [==============================] - 95s 500ms/step - loss: 0.0751 - accuracy: 0.9902\n",
      "Epoch 49/50\n",
      "189/189 [==============================] - 93s 494ms/step - loss: 0.0671 - accuracy: 0.9899\n",
      "Epoch 50/50\n",
      "189/189 [==============================] - 94s 499ms/step - loss: 0.0508 - accuracy: 0.9922\n"
     ]
    },
    {
     "data": {
      "text/plain": [
       "<keras.src.callbacks.History at 0x7f793fa251c0>"
      ]
     },
     "execution_count": 5,
     "metadata": {},
     "output_type": "execute_result"
    }
   ],
   "source": [
    "# Train the model\n",
    "rnn_model.fit(X_train, y_train, epochs=50, batch_size=32)"
   ]
  },
  {
   "cell_type": "code",
   "execution_count": 8,
   "metadata": {},
   "outputs": [],
   "source": [
    "# Save the trained RNN model\n",
    "#rnn_model.save('../models/rnn_text_generation_model.keras')"
   ]
  },
  {
   "cell_type": "code",
   "execution_count": 17,
   "metadata": {},
   "outputs": [
    {
     "data": {
      "image/png": "[encoded data removed]",
      "text/plain": [
       "<Figure size 640x480 with 1 Axes>"
      ]
     },
     "metadata": {},
     "output_type": "display_data"
    }
   ],
   "source": [
    "plt.plot(rnn_model.history.history['accuracy'])\n",
    "plt.title('Model Accuracy')\n",
    "plt.xlabel('Epochs')\n",
    "plt.ylabel('Accuracy')\n",
    "plt.savefig('../plots/rnn_model_training.png')\n",
    "plt.show()"
   ]
  },
  {
   "cell_type": "code",
   "execution_count": null,
   "metadata": {},
   "outputs": [],
   "source": []
  }
 ],
 "metadata": {
  "kernelspec": {
   "display_name": "deep_learning",
   "language": "python",
   "name": "python3"
  },
  "language_info": {
   "codemirror_mode": {
    "name": "ipython",
    "version": 3
   },
   "file_extension": ".py",
   "mimetype": "text/x-python",
   "name": "python",
   "nbconvert_exporter": "python",
   "pygments_lexer": "ipython3",
   "version": "3.8.19"
  }
 },
 "nbformat": 4,
 "nbformat_minor": 2
}
