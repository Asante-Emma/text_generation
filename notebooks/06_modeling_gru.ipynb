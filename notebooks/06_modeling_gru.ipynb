{
 "cells": [
  {
   "cell_type": "code",
   "execution_count": 6,
   "metadata": {},
   "outputs": [],
   "source": [
    "import numpy as np\n",
    "import joblib\n",
    "import tensorflow as tf\n",
    "from keras.models import Model\n",
    "from keras.layers import Input, Embedding, GRU, Bidirectional, Dense\n",
    "import matplotlib.pyplot as plt"
   ]
  },
  {
   "cell_type": "code",
   "execution_count": 2,
   "metadata": {},
   "outputs": [],
   "source": [
    "# Load processed sequences\n",
    "sequences = np.load(\"../data/processed/tokenized_sequences.npy\")\n",
    "tokenizer = joblib.load('../models/tokenizer.pkl')"
   ]
  },
  {
   "cell_type": "code",
   "execution_count": 3,
   "metadata": {},
   "outputs": [],
   "source": [
    "# Split into train and target\n",
    "X_train, y_train = sequences[:, :-1], sequences[:, -1]\n",
    "y_train = tf.keras.utils.to_categorical(y_train, num_classes=len(tokenizer.word_index) + 1)"
   ]
  },
  {
   "cell_type": "code",
   "execution_count": 4,
   "metadata": {},
   "outputs": [
    {
     "name": "stdout",
     "output_type": "stream",
     "text": [
      "Epoch 1/50\n",
      "189/189 [==============================] - 152s 788ms/step - loss: 7.8600 - accuracy: 0.0818\n",
      "Epoch 2/50\n",
      "189/189 [==============================] - 147s 777ms/step - loss: 5.8708 - accuracy: 0.1115\n",
      "Epoch 3/50\n",
      "189/189 [==============================] - 146s 773ms/step - loss: 5.0553 - accuracy: 0.1631\n",
      "Epoch 4/50\n",
      "189/189 [==============================] - 146s 774ms/step - loss: 4.0896 - accuracy: 0.2655\n",
      "Epoch 5/50\n",
      "189/189 [==============================] - 148s 781ms/step - loss: 3.0742 - accuracy: 0.3889\n",
      "Epoch 6/50\n",
      "189/189 [==============================] - 150s 796ms/step - loss: 2.1043 - accuracy: 0.5678\n",
      "Epoch 7/50\n",
      "189/189 [==============================] - 152s 805ms/step - loss: 1.2684 - accuracy: 0.7677\n",
      "Epoch 8/50\n",
      "189/189 [==============================] - 152s 807ms/step - loss: 0.6955 - accuracy: 0.8887\n",
      "Epoch 9/50\n",
      "189/189 [==============================] - 154s 812ms/step - loss: 0.3794 - accuracy: 0.9484\n",
      "Epoch 10/50\n",
      "189/189 [==============================] - 153s 808ms/step - loss: 0.2161 - accuracy: 0.9751\n",
      "Epoch 11/50\n",
      "189/189 [==============================] - 152s 805ms/step - loss: 0.1313 - accuracy: 0.9882\n",
      "Epoch 12/50\n",
      "189/189 [==============================] - 152s 802ms/step - loss: 0.0913 - accuracy: 0.9922\n",
      "Epoch 13/50\n",
      "189/189 [==============================] - 144s 759ms/step - loss: 0.0716 - accuracy: 0.9929\n",
      "Epoch 14/50\n",
      "189/189 [==============================] - 145s 765ms/step - loss: 0.0589 - accuracy: 0.9942\n",
      "Epoch 15/50\n",
      "189/189 [==============================] - 143s 755ms/step - loss: 0.0517 - accuracy: 0.9937\n",
      "Epoch 16/50\n",
      "189/189 [==============================] - 144s 764ms/step - loss: 0.0476 - accuracy: 0.9939\n",
      "Epoch 17/50\n",
      "189/189 [==============================] - 135s 711ms/step - loss: 0.0446 - accuracy: 0.9940\n",
      "Epoch 18/50\n",
      "189/189 [==============================] - 133s 706ms/step - loss: 0.0417 - accuracy: 0.9940\n",
      "Epoch 19/50\n",
      "189/189 [==============================] - 134s 709ms/step - loss: 0.0404 - accuracy: 0.9932\n",
      "Epoch 20/50\n",
      "189/189 [==============================] - 134s 710ms/step - loss: 0.0390 - accuracy: 0.9935\n",
      "Epoch 21/50\n",
      "189/189 [==============================] - 135s 715ms/step - loss: 0.0363 - accuracy: 0.9942\n",
      "Epoch 22/50\n",
      "189/189 [==============================] - 133s 702ms/step - loss: 0.0351 - accuracy: 0.9940\n",
      "Epoch 23/50\n",
      "189/189 [==============================] - 134s 710ms/step - loss: 0.0339 - accuracy: 0.9939\n",
      "Epoch 24/50\n",
      "189/189 [==============================] - 134s 711ms/step - loss: 0.0340 - accuracy: 0.9940\n",
      "Epoch 25/50\n",
      "189/189 [==============================] - 135s 714ms/step - loss: 0.0330 - accuracy: 0.9937\n",
      "Epoch 26/50\n",
      "189/189 [==============================] - 133s 704ms/step - loss: 0.0323 - accuracy: 0.9939\n",
      "Epoch 27/50\n",
      "189/189 [==============================] - 135s 714ms/step - loss: 0.0315 - accuracy: 0.9937\n",
      "Epoch 28/50\n",
      "189/189 [==============================] - 134s 708ms/step - loss: 0.0316 - accuracy: 0.9942\n",
      "Epoch 29/50\n",
      "189/189 [==============================] - 134s 710ms/step - loss: 0.0308 - accuracy: 0.9934\n",
      "Epoch 30/50\n",
      "189/189 [==============================] - 135s 712ms/step - loss: 0.0302 - accuracy: 0.9939\n",
      "Epoch 31/50\n",
      "189/189 [==============================] - 135s 715ms/step - loss: 0.0291 - accuracy: 0.9939\n",
      "Epoch 32/50\n",
      "189/189 [==============================] - 135s 712ms/step - loss: 0.0306 - accuracy: 0.9932\n",
      "Epoch 33/50\n",
      "189/189 [==============================] - 134s 711ms/step - loss: 0.0310 - accuracy: 0.9935\n",
      "Epoch 34/50\n",
      "189/189 [==============================] - 135s 712ms/step - loss: 0.0293 - accuracy: 0.9939\n",
      "Epoch 35/50\n",
      "189/189 [==============================] - 135s 714ms/step - loss: 0.0291 - accuracy: 0.9940\n",
      "Epoch 36/50\n",
      "189/189 [==============================] - 135s 717ms/step - loss: 0.0291 - accuracy: 0.9939\n",
      "Epoch 37/50\n",
      "189/189 [==============================] - 135s 715ms/step - loss: 0.0305 - accuracy: 0.9930\n",
      "Epoch 38/50\n",
      "189/189 [==============================] - 135s 715ms/step - loss: 0.0291 - accuracy: 0.9937\n",
      "Epoch 39/50\n",
      "189/189 [==============================] - 135s 716ms/step - loss: 0.0280 - accuracy: 0.9944\n",
      "Epoch 40/50\n",
      "189/189 [==============================] - 135s 712ms/step - loss: 0.0285 - accuracy: 0.9935\n",
      "Epoch 41/50\n",
      "189/189 [==============================] - 135s 714ms/step - loss: 0.0284 - accuracy: 0.9937\n",
      "Epoch 42/50\n",
      "189/189 [==============================] - 135s 716ms/step - loss: 0.0267 - accuracy: 0.9944\n",
      "Epoch 43/50\n",
      "189/189 [==============================] - 134s 710ms/step - loss: 0.2081 - accuracy: 0.9469\n",
      "Epoch 44/50\n",
      "189/189 [==============================] - 135s 715ms/step - loss: 0.3640 - accuracy: 0.9177\n",
      "Epoch 45/50\n",
      "189/189 [==============================] - 134s 711ms/step - loss: 0.0575 - accuracy: 0.9889\n",
      "Epoch 46/50\n",
      "189/189 [==============================] - 134s 712ms/step - loss: 0.0312 - accuracy: 0.9940\n",
      "Epoch 47/50\n",
      "189/189 [==============================] - 134s 711ms/step - loss: 0.0294 - accuracy: 0.9940\n",
      "Epoch 48/50\n",
      "189/189 [==============================] - 135s 715ms/step - loss: 0.0293 - accuracy: 0.9942\n",
      "Epoch 49/50\n",
      "189/189 [==============================] - 134s 711ms/step - loss: 0.0288 - accuracy: 0.9940\n",
      "Epoch 50/50\n",
      "189/189 [==============================] - 135s 713ms/step - loss: 0.0286 - accuracy: 0.9940\n"
     ]
    },
    {
     "data": {
      "text/plain": [
       "<keras.src.callbacks.History at 0x7ff1eb331a00>"
      ]
     },
     "execution_count": 4,
     "metadata": {},
     "output_type": "execute_result"
    }
   ],
   "source": [
    "# Build GRU model\n",
    "D = 512\n",
    "V = len(tokenizer.word_index) + 1\n",
    "T = X_train.shape[1]\n",
    "\n",
    "i = Input(shape=(T,))\n",
    "x = Embedding(V, D)(i)\n",
    "\n",
    "x = Bidirectional(GRU(200))(x)\n",
    "x = Dense(V, activation=\"softmax\")(x)\n",
    "gru_model = Model(i, x)\n",
    "\n",
    "# Compile the model\n",
    "gru_model.compile(optimizer='adam', loss='categorical_crossentropy', metrics=['accuracy'])\n",
    "\n",
    "# Train the model\n",
    "gru_model.fit(X_train, y_train, epochs=50, batch_size=32)"
   ]
  },
  {
   "cell_type": "code",
   "execution_count": 5,
   "metadata": {},
   "outputs": [],
   "source": [
    "# Save the trained GRU model\n",
    "#gru_model.save('../models/gru_text_generation_model.keras')"
   ]
  },
  {
   "cell_type": "code",
   "execution_count": 8,
   "metadata": {},
   "outputs": [
    {
     "data": {
      "image/png": "[encoded data removed]",
      "text/plain": [
       "<Figure size 640x480 with 1 Axes>"
      ]
     },
     "metadata": {},
     "output_type": "display_data"
    }
   ],
   "source": [
    "plt.plot(gru_model.history.history['accuracy'])\n",
    "plt.title('Model Accuracy')\n",
    "plt.xlabel('Epochs')\n",
    "plt.ylabel('Accuracy')\n",
    "plt.savefig('../plots/gru_model_training.png')\n",
    "plt.show()"
   ]
  },
  {
   "cell_type": "code",
   "execution_count": null,
   "metadata": {},
   "outputs": [],
   "source": []
  }
 ],
 "metadata": {
  "kernelspec": {
   "display_name": "deep_learning",
   "language": "python",
   "name": "python3"
  },
  "language_info": {
   "codemirror_mode": {
    "name": "ipython",
    "version": 3
   },
   "file_extension": ".py",
   "mimetype": "text/x-python",
   "name": "python",
   "nbconvert_exporter": "python",
   "pygments_lexer": "ipython3",
   "version": "3.8.19"
  }
 },
 "nbformat": 4,
 "nbformat_minor": 2
}
